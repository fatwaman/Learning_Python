{
  "nbformat": 4,
  "nbformat_minor": 0,
  "metadata": {
    "colab": {
      "provenance": [],
      "authorship_tag": "ABX9TyMykYT7lfEs4MFJGnM0LTFY",
      "include_colab_link": true
    },
    "kernelspec": {
      "name": "python3",
      "display_name": "Python 3"
    },
    "language_info": {
      "name": "python"
    }
  },
  "cells": [
    {
      "cell_type": "markdown",
      "metadata": {
        "id": "view-in-github",
        "colab_type": "text"
      },
      "source": [
        "<a href=\"https://colab.research.google.com/github/fatwaman/Learning_Python/blob/main/IBM_Skillbuild_Fatwa.ipynb\" target=\"_parent\"><img src=\"https://colab.research.google.com/assets/colab-badge.svg\" alt=\"Open In Colab\"/></a>"
      ]
    },
    {
      "cell_type": "code",
      "execution_count": 22,
      "metadata": {
        "colab": {
          "base_uri": "https://localhost:8080/"
        },
        "id": "GvT1b0XhvRHj",
        "outputId": "34a02d74-9e4c-4754-9ea7-caa11fc96bc7"
      },
      "outputs": [
        {
          "output_type": "stream",
          "name": "stdout",
          "text": [
            "Haloo\n"
          ]
        }
      ],
      "source": [
        "print(\"Haloo\")"
      ]
    },
    {
      "cell_type": "code",
      "source": [
        "nama = \"Fatwa Rafiudin\"\n",
        "umur = 75"
      ],
      "metadata": {
        "id": "uWMFCRJbyKwc"
      },
      "execution_count": 23,
      "outputs": []
    },
    {
      "cell_type": "code",
      "source": [
        "print(\"Halo nama saya adalah\", nama, \"Umur saya sudah\", umur,\"tahun\")"
      ],
      "metadata": {
        "colab": {
          "base_uri": "https://localhost:8080/"
        },
        "id": "QrAqGDDOyhju",
        "outputId": "2aaad51f-5335-4e61-cf5a-cb2fa6989bde"
      },
      "execution_count": 24,
      "outputs": [
        {
          "output_type": "stream",
          "name": "stdout",
          "text": [
            "Halo nama saya adalah Fatwa Rafiudin Umur saya sudah 75 tahun\n"
          ]
        }
      ]
    },
    {
      "cell_type": "code",
      "source": [
        "!pip install replicate\n",
        "!pip install langchain_community"
      ],
      "metadata": {
        "colab": {
          "base_uri": "https://localhost:8080/"
        },
        "collapsed": true,
        "id": "hDMLYbTjzDr9",
        "outputId": "28d71c20-9827-4626-c74d-ae4708211a90"
      },
      "execution_count": 25,
      "outputs": [
        {
          "output_type": "stream",
          "name": "stdout",
          "text": [
            "Requirement already satisfied: replicate in /usr/local/lib/python3.12/dist-packages (1.0.7)\n",
            "Requirement already satisfied: httpx<1,>=0.21.0 in /usr/local/lib/python3.12/dist-packages (from replicate) (0.28.1)\n",
            "Requirement already satisfied: packaging in /usr/local/lib/python3.12/dist-packages (from replicate) (25.0)\n",
            "Requirement already satisfied: pydantic>1.10.7 in /usr/local/lib/python3.12/dist-packages (from replicate) (2.11.7)\n",
            "Requirement already satisfied: typing_extensions>=4.5.0 in /usr/local/lib/python3.12/dist-packages (from replicate) (4.15.0)\n",
            "Requirement already satisfied: anyio in /usr/local/lib/python3.12/dist-packages (from httpx<1,>=0.21.0->replicate) (4.10.0)\n",
            "Requirement already satisfied: certifi in /usr/local/lib/python3.12/dist-packages (from httpx<1,>=0.21.0->replicate) (2025.8.3)\n",
            "Requirement already satisfied: httpcore==1.* in /usr/local/lib/python3.12/dist-packages (from httpx<1,>=0.21.0->replicate) (1.0.9)\n",
            "Requirement already satisfied: idna in /usr/local/lib/python3.12/dist-packages (from httpx<1,>=0.21.0->replicate) (3.10)\n",
            "Requirement already satisfied: h11>=0.16 in /usr/local/lib/python3.12/dist-packages (from httpcore==1.*->httpx<1,>=0.21.0->replicate) (0.16.0)\n",
            "Requirement already satisfied: annotated-types>=0.6.0 in /usr/local/lib/python3.12/dist-packages (from pydantic>1.10.7->replicate) (0.7.0)\n",
            "Requirement already satisfied: pydantic-core==2.33.2 in /usr/local/lib/python3.12/dist-packages (from pydantic>1.10.7->replicate) (2.33.2)\n",
            "Requirement already satisfied: typing-inspection>=0.4.0 in /usr/local/lib/python3.12/dist-packages (from pydantic>1.10.7->replicate) (0.4.1)\n",
            "Requirement already satisfied: sniffio>=1.1 in /usr/local/lib/python3.12/dist-packages (from anyio->httpx<1,>=0.21.0->replicate) (1.3.1)\n",
            "Requirement already satisfied: langchain_community in /usr/local/lib/python3.12/dist-packages (0.3.29)\n",
            "Requirement already satisfied: langchain-core<2.0.0,>=0.3.75 in /usr/local/lib/python3.12/dist-packages (from langchain_community) (0.3.75)\n",
            "Requirement already satisfied: langchain<2.0.0,>=0.3.27 in /usr/local/lib/python3.12/dist-packages (from langchain_community) (0.3.27)\n",
            "Requirement already satisfied: SQLAlchemy<3,>=1.4 in /usr/local/lib/python3.12/dist-packages (from langchain_community) (2.0.43)\n",
            "Requirement already satisfied: requests<3,>=2.32.5 in /usr/local/lib/python3.12/dist-packages (from langchain_community) (2.32.5)\n",
            "Requirement already satisfied: PyYAML>=5.3 in /usr/local/lib/python3.12/dist-packages (from langchain_community) (6.0.2)\n",
            "Requirement already satisfied: aiohttp<4.0.0,>=3.8.3 in /usr/local/lib/python3.12/dist-packages (from langchain_community) (3.12.15)\n",
            "Requirement already satisfied: tenacity!=8.4.0,<10,>=8.1.0 in /usr/local/lib/python3.12/dist-packages (from langchain_community) (8.5.0)\n",
            "Requirement already satisfied: dataclasses-json<0.7,>=0.6.7 in /usr/local/lib/python3.12/dist-packages (from langchain_community) (0.6.7)\n",
            "Requirement already satisfied: pydantic-settings<3.0.0,>=2.10.1 in /usr/local/lib/python3.12/dist-packages (from langchain_community) (2.10.1)\n",
            "Requirement already satisfied: langsmith>=0.1.125 in /usr/local/lib/python3.12/dist-packages (from langchain_community) (0.4.24)\n",
            "Requirement already satisfied: httpx-sse<1.0.0,>=0.4.0 in /usr/local/lib/python3.12/dist-packages (from langchain_community) (0.4.1)\n",
            "Requirement already satisfied: numpy>=1.26.2 in /usr/local/lib/python3.12/dist-packages (from langchain_community) (2.0.2)\n",
            "Requirement already satisfied: aiohappyeyeballs>=2.5.0 in /usr/local/lib/python3.12/dist-packages (from aiohttp<4.0.0,>=3.8.3->langchain_community) (2.6.1)\n",
            "Requirement already satisfied: aiosignal>=1.4.0 in /usr/local/lib/python3.12/dist-packages (from aiohttp<4.0.0,>=3.8.3->langchain_community) (1.4.0)\n",
            "Requirement already satisfied: attrs>=17.3.0 in /usr/local/lib/python3.12/dist-packages (from aiohttp<4.0.0,>=3.8.3->langchain_community) (25.3.0)\n",
            "Requirement already satisfied: frozenlist>=1.1.1 in /usr/local/lib/python3.12/dist-packages (from aiohttp<4.0.0,>=3.8.3->langchain_community) (1.7.0)\n",
            "Requirement already satisfied: multidict<7.0,>=4.5 in /usr/local/lib/python3.12/dist-packages (from aiohttp<4.0.0,>=3.8.3->langchain_community) (6.6.4)\n",
            "Requirement already satisfied: propcache>=0.2.0 in /usr/local/lib/python3.12/dist-packages (from aiohttp<4.0.0,>=3.8.3->langchain_community) (0.3.2)\n",
            "Requirement already satisfied: yarl<2.0,>=1.17.0 in /usr/local/lib/python3.12/dist-packages (from aiohttp<4.0.0,>=3.8.3->langchain_community) (1.20.1)\n",
            "Requirement already satisfied: marshmallow<4.0.0,>=3.18.0 in /usr/local/lib/python3.12/dist-packages (from dataclasses-json<0.7,>=0.6.7->langchain_community) (3.26.1)\n",
            "Requirement already satisfied: typing-inspect<1,>=0.4.0 in /usr/local/lib/python3.12/dist-packages (from dataclasses-json<0.7,>=0.6.7->langchain_community) (0.9.0)\n",
            "Requirement already satisfied: langchain-text-splitters<1.0.0,>=0.3.9 in /usr/local/lib/python3.12/dist-packages (from langchain<2.0.0,>=0.3.27->langchain_community) (0.3.11)\n",
            "Requirement already satisfied: pydantic<3.0.0,>=2.7.4 in /usr/local/lib/python3.12/dist-packages (from langchain<2.0.0,>=0.3.27->langchain_community) (2.11.7)\n",
            "Requirement already satisfied: jsonpatch<2.0,>=1.33 in /usr/local/lib/python3.12/dist-packages (from langchain-core<2.0.0,>=0.3.75->langchain_community) (1.33)\n",
            "Requirement already satisfied: typing-extensions>=4.7 in /usr/local/lib/python3.12/dist-packages (from langchain-core<2.0.0,>=0.3.75->langchain_community) (4.15.0)\n",
            "Requirement already satisfied: packaging>=23.2 in /usr/local/lib/python3.12/dist-packages (from langchain-core<2.0.0,>=0.3.75->langchain_community) (25.0)\n",
            "Requirement already satisfied: httpx<1,>=0.23.0 in /usr/local/lib/python3.12/dist-packages (from langsmith>=0.1.125->langchain_community) (0.28.1)\n",
            "Requirement already satisfied: orjson>=3.9.14 in /usr/local/lib/python3.12/dist-packages (from langsmith>=0.1.125->langchain_community) (3.11.3)\n",
            "Requirement already satisfied: requests-toolbelt>=1.0.0 in /usr/local/lib/python3.12/dist-packages (from langsmith>=0.1.125->langchain_community) (1.0.0)\n",
            "Requirement already satisfied: zstandard>=0.23.0 in /usr/local/lib/python3.12/dist-packages (from langsmith>=0.1.125->langchain_community) (0.24.0)\n",
            "Requirement already satisfied: python-dotenv>=0.21.0 in /usr/local/lib/python3.12/dist-packages (from pydantic-settings<3.0.0,>=2.10.1->langchain_community) (1.1.1)\n",
            "Requirement already satisfied: typing-inspection>=0.4.0 in /usr/local/lib/python3.12/dist-packages (from pydantic-settings<3.0.0,>=2.10.1->langchain_community) (0.4.1)\n",
            "Requirement already satisfied: charset_normalizer<4,>=2 in /usr/local/lib/python3.12/dist-packages (from requests<3,>=2.32.5->langchain_community) (3.4.3)\n",
            "Requirement already satisfied: idna<4,>=2.5 in /usr/local/lib/python3.12/dist-packages (from requests<3,>=2.32.5->langchain_community) (3.10)\n",
            "Requirement already satisfied: urllib3<3,>=1.21.1 in /usr/local/lib/python3.12/dist-packages (from requests<3,>=2.32.5->langchain_community) (2.5.0)\n",
            "Requirement already satisfied: certifi>=2017.4.17 in /usr/local/lib/python3.12/dist-packages (from requests<3,>=2.32.5->langchain_community) (2025.8.3)\n",
            "Requirement already satisfied: greenlet>=1 in /usr/local/lib/python3.12/dist-packages (from SQLAlchemy<3,>=1.4->langchain_community) (3.2.4)\n",
            "Requirement already satisfied: anyio in /usr/local/lib/python3.12/dist-packages (from httpx<1,>=0.23.0->langsmith>=0.1.125->langchain_community) (4.10.0)\n",
            "Requirement already satisfied: httpcore==1.* in /usr/local/lib/python3.12/dist-packages (from httpx<1,>=0.23.0->langsmith>=0.1.125->langchain_community) (1.0.9)\n",
            "Requirement already satisfied: h11>=0.16 in /usr/local/lib/python3.12/dist-packages (from httpcore==1.*->httpx<1,>=0.23.0->langsmith>=0.1.125->langchain_community) (0.16.0)\n",
            "Requirement already satisfied: jsonpointer>=1.9 in /usr/local/lib/python3.12/dist-packages (from jsonpatch<2.0,>=1.33->langchain-core<2.0.0,>=0.3.75->langchain_community) (3.0.0)\n",
            "Requirement already satisfied: annotated-types>=0.6.0 in /usr/local/lib/python3.12/dist-packages (from pydantic<3.0.0,>=2.7.4->langchain<2.0.0,>=0.3.27->langchain_community) (0.7.0)\n",
            "Requirement already satisfied: pydantic-core==2.33.2 in /usr/local/lib/python3.12/dist-packages (from pydantic<3.0.0,>=2.7.4->langchain<2.0.0,>=0.3.27->langchain_community) (2.33.2)\n",
            "Requirement already satisfied: mypy-extensions>=0.3.0 in /usr/local/lib/python3.12/dist-packages (from typing-inspect<1,>=0.4.0->dataclasses-json<0.7,>=0.6.7->langchain_community) (1.1.0)\n",
            "Requirement already satisfied: sniffio>=1.1 in /usr/local/lib/python3.12/dist-packages (from anyio->httpx<1,>=0.23.0->langsmith>=0.1.125->langchain_community) (1.3.1)\n"
          ]
        }
      ]
    },
    {
      "cell_type": "code",
      "source": [
        "from google.colab import userdata\n",
        "import os\n",
        "\n",
        "# Collect token from secret\n",
        "api_token = userdata.get(\"api_token\")\n",
        "\n",
        "# Send Token to environment variable\n",
        "os.environ['REPLICATE_API_TOKEN'] = api_token"
      ],
      "metadata": {
        "id": "PBuA31Uh1CJh"
      },
      "execution_count": 28,
      "outputs": []
    },
    {
      "cell_type": "code",
      "source": [
        "from langchain_community.llms import Replicate\n",
        "\n",
        "# Define llm ibm-granite\n",
        "llm = Replicate(model=\"ibm-granite/granite-3.3-8b-instruct\")"
      ],
      "metadata": {
        "id": "2HjID4IV1iwY"
      },
      "execution_count": 30,
      "outputs": []
    },
    {
      "cell_type": "code",
      "source": [
        "output = llm.invoke(\"I want to learn llm IBM Granite, please help what I should do? please make step by step\")\n",
        "\n",
        "print(output)"
      ],
      "metadata": {
        "colab": {
          "base_uri": "https://localhost:8080/"
        },
        "id": "LhYphkJT39xu",
        "outputId": "2e0075fa-c5fe-449f-bdcf-e8d532b1d94d"
      },
      "execution_count": 32,
      "outputs": [
        {
          "output_type": "stream",
          "name": "stdout",
          "text": [
            "1. Familiarize Yourself with IBM Granite: IBM Granite is a large language model (LLM) developed by IBM. It's designed to understand and generate human-like text based on the input it receives. Start by reading about its capabilities, limitations, and ethical considerations on the official IBM website or relevant research papers.\n",
            "\n",
            "2. Access IBM Granite: Currently, IBM Granite is not publicly available for direct use. It's primarily used within IBM for various applications. If you're an IBM employee or affiliated with an organization that has access to it, you can explore it through their internal systems.\n",
            "\n",
            "3. Learn about LLMs in General: Since IBM Granite is a specific LLM, gaining a broader understanding of large language models will be beneficial. Study popular models like GPT-3, BERT, and T5. Understand concepts such as transformer architecture, attention mechanisms, and pre-training/fine-tuning.\n",
            "\n",
            "4. Programming Skills: To effectively work with LLMs, you should have proficiency in programming languages like Python. Familiarize yourself with libraries such as Hugging Face's Transformers, which provide pre-trained models and tools for fine-tuning and using LLMs.\n",
            "\n",
            "5. Hands-on Practice: Try implementing simple projects using other open-source LLMs. This will help you understand their working principles and how to integrate them into applications. You can start with text generation, summarization, or question-answering tasks.\n",
            "\n",
            "6. Stay Updated: Keep track of the latest research and developments in the field of LLMs. Follow relevant researchers, read papers, and participate in online forums or communities to stay informed about advancements and best practices.\n",
            "\n",
            "7. Explore IBM's Contributions: IBM has contributed to the LLM space with models like Project Debater and Watson. Explore their work and publications to gain insights into IBM's approach to developing and applying LLMs.\n",
            "\n",
            "8. Network and Collaborate: Connect with experts, researchers, or developers working with LLMs, especially those involved with IBM Granite if possible. Collaborating with others can provide valuable knowledge and perspectives on working with advanced language models.\n",
            "\n",
            "9. Consider Formal Education: If you're serious about pursuing a career in LLM research or development, consider enrolling in relevant\n"
          ]
        }
      ]
    },
    {
      "cell_type": "code",
      "source": [
        "list_1 = [5, 3, 2, 8, 12, 6, 5]"
      ],
      "metadata": {
        "id": "Po_O0T-Y4Uph"
      },
      "execution_count": 33,
      "outputs": []
    },
    {
      "cell_type": "code",
      "source": [
        "for ember in list_1:\n",
        "  print(\"Halo nama saya\", nama)\n",
        "  print(\"Saya akan menjelaskan tentang for loop\")\n",
        "  print(\"Isi ember sekarang adalah:\", ember)\n",
        "  print(\"Itulah isinya\")\n",
        "  print()\n",
        "  print()\n"
      ],
      "metadata": {
        "colab": {
          "base_uri": "https://localhost:8080/"
        },
        "id": "rjZ5xwSe78--",
        "outputId": "83b5fc14-e58e-4e06-9cad-0406a3dd4cae"
      },
      "execution_count": 41,
      "outputs": [
        {
          "output_type": "stream",
          "name": "stdout",
          "text": [
            "Halo nama saya Fatwa Rafiudin\n",
            "Saya akan menjelaskan tentang for loop\n",
            "Isi ember sekarang adalah: 5\n",
            "Itulah isinya\n",
            "\n",
            "\n",
            "Halo nama saya Fatwa Rafiudin\n",
            "Saya akan menjelaskan tentang for loop\n",
            "Isi ember sekarang adalah: 3\n",
            "Itulah isinya\n",
            "\n",
            "\n",
            "Halo nama saya Fatwa Rafiudin\n",
            "Saya akan menjelaskan tentang for loop\n",
            "Isi ember sekarang adalah: 2\n",
            "Itulah isinya\n",
            "\n",
            "\n",
            "Halo nama saya Fatwa Rafiudin\n",
            "Saya akan menjelaskan tentang for loop\n",
            "Isi ember sekarang adalah: 8\n",
            "Itulah isinya\n",
            "\n",
            "\n",
            "Halo nama saya Fatwa Rafiudin\n",
            "Saya akan menjelaskan tentang for loop\n",
            "Isi ember sekarang adalah: 12\n",
            "Itulah isinya\n",
            "\n",
            "\n",
            "Halo nama saya Fatwa Rafiudin\n",
            "Saya akan menjelaskan tentang for loop\n",
            "Isi ember sekarang adalah: 6\n",
            "Itulah isinya\n",
            "\n",
            "\n",
            "Halo nama saya Fatwa Rafiudin\n",
            "Saya akan menjelaskan tentang for loop\n",
            "Isi ember sekarang adalah: 5\n",
            "Itulah isinya\n",
            "\n",
            "\n"
          ]
        }
      ]
    },
    {
      "cell_type": "code",
      "source": [
        "data = [\n",
        "    \"Hape nya jelek, layarnya gampang pecah kalo dipake nguleg\",\n",
        "    \"Hape nya gacor buat main emel, aku suka main emel legend\",\n",
        "    \"Hape nya lumayan tahan banting, tapi main roblox kentang\"\n",
        "]"
      ],
      "metadata": {
        "id": "clfG5l5L-R5V"
      },
      "execution_count": 44,
      "outputs": []
    },
    {
      "cell_type": "code",
      "source": [
        "for row in data:\n",
        "  print(\"Input sekarang:\", row)\n",
        "\n",
        "  prompt = f\"\"\"Please classify this user's review about our phone:\n",
        "  {row}\n",
        "  \"\"\"\n",
        "\n",
        "  print(\"Prompt sekarang:\", prompt)\n",
        "  output = llm.invoke(prompt)\n",
        "  print(\"Output sekarang:\", output)\n",
        "  print(\"===================================\")"
      ],
      "metadata": {
        "colab": {
          "base_uri": "https://localhost:8080/"
        },
        "id": "JfWN_nK8_khn",
        "outputId": "c936959f-deea-4da1-daeb-47d4a4133899"
      },
      "execution_count": 46,
      "outputs": [
        {
          "output_type": "stream",
          "name": "stdout",
          "text": [
            "Input sekarang: Hape nya jelek, layarnya gampang pecah kalo dipake nguleg\n",
            "Prompt sekarang: Please classify this user's review about our phone:\n",
            "  Hape nya jelek, layarnya gampang pecah kalo dipake nguleg\n",
            "  \n",
            "Output sekarang: The user's review in English translates to: \"It's so bad, the screen easily cracks when laid down.\"\n",
            "\n",
            "Classification: Negative review, indicating a problem with the phone's durability.\n",
            "===================================\n",
            "Input sekarang: Hape nya gacor buat main emel, aku suka main emel legend\n",
            "Prompt sekarang: Please classify this user's review about our phone:\n",
            "  Hape nya gacor buat main emel, aku suka main emel legend\n",
            "  \n",
            "Output sekarang: The user's review about the phone can be classified as positive. The review translates to: \"It's really fast for email, I like playing email legend.\" The user expresses satisfaction with the phone's performance for email use, indicating a positive sentiment.\n",
            "===================================\n",
            "Input sekarang: Hape nya lumayan tahan banting, tapi main roblox kentang\n",
            "Prompt sekarang: Please classify this user's review about our phone:\n",
            "  Hape nya lumayan tahan banting, tapi main roblox kentang\n",
            "  \n",
            "Output sekarang: The user's review in English translates to: \"It's quite durable against water splashes, but struggles with Roblox potato.\"\n",
            "\n",
            "This review appears to be mixed. The user acknowledges the phone's resilience against water splashes (positive), but also mentions an issue with running the game Roblox (negative). The term \"kentang\" in Indonesian is often used humorously to refer to something subpar or low-quality, in this case, likely implying the phone's performance while playing Roblox is poor or laggy, akin to \"potato-quality\" streaming.\n",
            "\n",
            "Classification: Mixed (Positive - Durability, Negative - Gaming Performance)\n",
            "===================================\n"
          ]
        }
      ]
    },
    {
      "cell_type": "code",
      "source": [
        "for row in data:\n",
        "  print(\"Input sekarang:\", row)\n",
        "\n",
        "  prompt = f\"\"\"\n",
        "  You can classify only into these 3: positive, neutral, and negative.\n",
        "  Please respond with label only.\n",
        "  Please classify this user's review about our phone.\n",
        "  {row}\n",
        "  \"\"\"\n",
        "\n",
        "  print(\"Prompt sekarang:\", prompt)\n",
        "  output = llm.invoke(prompt)\n",
        "  print(\"Output sekarang:\", output)\n",
        "  print(\"===================================\")\n"
      ],
      "metadata": {
        "colab": {
          "base_uri": "https://localhost:8080/"
        },
        "id": "WbIULrH5_bmb",
        "outputId": "015ef88c-9eab-440d-d470-77cf07f9356c"
      },
      "execution_count": 55,
      "outputs": [
        {
          "output_type": "stream",
          "name": "stdout",
          "text": [
            "Input sekarang: Hape nya jelek, layarnya gampang pecah kalo dipake nguleg\n",
            "Prompt sekarang: \n",
            "  You can classify only into these 3: positive, neutral, and negative.\n",
            "  Please respond with label only.\n",
            "  Please classify this user's review about our phone.\n",
            "  Hape nya jelek, layarnya gampang pecah kalo dipake nguleg\n",
            "  \n",
            "Output sekarang: negative\n",
            "===================================\n",
            "Input sekarang: Hape nya gacor buat main emel, aku suka main emel legend\n",
            "Prompt sekarang: \n",
            "  You can classify only into these 3: positive, neutral, and negative.\n",
            "  Please respond with label only.\n",
            "  Please classify this user's review about our phone.\n",
            "  Hape nya gacor buat main emel, aku suka main emel legend\n",
            "  \n",
            "Output sekarang: positive\n",
            "===================================\n",
            "Input sekarang: Hape nya lumayan tahan banting, tapi main roblox kentang\n",
            "Prompt sekarang: \n",
            "  You can classify only into these 3: positive, neutral, and negative.\n",
            "  Please respond with label only.\n",
            "  Please classify this user's review about our phone.\n",
            "  Hape nya lumayan tahan banting, tapi main roblox kentang\n",
            "  \n",
            "Output sekarang: neutral\n",
            "===================================\n"
          ]
        }
      ]
    },
    {
      "cell_type": "code",
      "source": [],
      "metadata": {
        "id": "8ElywfsrAD9K"
      },
      "execution_count": null,
      "outputs": []
    }
  ]
}