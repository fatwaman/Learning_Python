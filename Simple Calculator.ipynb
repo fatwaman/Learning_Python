{
 "cells": [
  {
   "cell_type": "code",
   "execution_count": 27,
   "id": "54b00953-f507-4921-a87c-154a872664c0",
   "metadata": {},
   "outputs": [],
   "source": [
    "#Project Kalkulator Sederhana"
   ]
  },
  {
   "cell_type": "code",
   "execution_count": 41,
   "id": "3c1d7dbc-bdcc-431f-a0bc-451ecb0d78a9",
   "metadata": {},
   "outputs": [],
   "source": [
    "#Fungsi Penjumhan\n",
    "def add (x,y):\n",
    "    return x+y\n",
    "\n",
    "#Fungsi Pengurangan\n",
    "def subtract(x,y):\n",
    "    return x-y\n",
    "\n",
    "#Fungsi Perkalian\n",
    "def multiply(x,y):\n",
    "    return x*y\n",
    "\n",
    "#Fungsi Pembagian\n",
    "def divide(x,y):\n",
    "    return x/y\n",
    "\n",
    "#Fungsi Exponen\n",
    "def eksponen(x,y):\n",
    "    return x**y\n",
    "\n",
    "#Fungsi Modulo\n",
    "def modulus(x,y):\n",
    "    return x%y\n",
    "\n",
    "#Fungsi Pembulatan ke bawah\n",
    "def floordivision(x,y):\n",
    "    return x//y"
   ]
  },
  {
   "cell_type": "code",
   "execution_count": 42,
   "id": "b6e075e7-5d18-4eae-a88e-afca9001d467",
   "metadata": {},
   "outputs": [
    {
     "name": "stdout",
     "output_type": "stream",
     "text": [
      "=========================\n",
      "Pilih Operasi:\n",
      "1. Penjumlahan [+]\n",
      "2. Pengurangan [-]\n",
      "3. Perkalian [*]\n",
      "4. Pembagian [/]\n",
      "5. Exponen [**]\n",
      "6. Modulus [%]\n",
      "7. Pembulatan ke bawah [//]\n",
      "=========================\n"
     ]
    },
    {
     "name": "stdin",
     "output_type": "stream",
     "text": [
      "Masukkan pilihan (1/2/3/4/5/6/7):  3\n",
      "Masukkan bilangan pertama:  4\n",
      "Masukkan bilangan Kedua:  6\n"
     ]
    }
   ],
   "source": [
    "#Menu Operasi\n",
    "print(\"=\"*25)\n",
    "print(\"Pilih Operasi:\")\n",
    "print(\"1. Penjumlahan [+]\")\n",
    "print(\"2. Pengurangan [-]\")\n",
    "print(\"3. Perkalian [*]\")\n",
    "print(\"4. Pembagian [/]\")\n",
    "print(\"5. Exponen [**]\")\n",
    "print(\"6. Modulus [%]\")\n",
    "print(\"7. Pembulatan ke bawah [//]\")\n",
    "print(\"=\"*25)\n",
    "\n",
    "choice=input(\"Masukkan pilihan (1/2/3/4/5/6/7): \")\n",
    "x = int(input(\"Masukkan bilangan pertama: \"))\n",
    "y = int(input(\"Masukkan bilangan Kedua: \"))"
   ]
  },
  {
   "cell_type": "code",
   "execution_count": 43,
   "id": "6530eaac-d320-449b-8d6e-a5a502796d8e",
   "metadata": {},
   "outputs": [
    {
     "name": "stdout",
     "output_type": "stream",
     "text": [
      "=========================\n",
      "hasilnya perkaliannya adalah 4 * 6 =  24\n"
     ]
    }
   ],
   "source": [
    "print(\"=\"*25)\n",
    "if choice == '1':\n",
    "   print(f'hasilnya penjumlahannya adalah {x} + {y} = ', add(x,y))\n",
    "elif choice == '2':\n",
    "    print(f'hasilnya penguranganya adalah {x} - {y} = ', subtract(x,y))\n",
    "elif choice == '3':\n",
    "    print(f'hasilnya perkaliannya adalah {x} * {y} = ', multiply(x,y))\n",
    "elif choice == '4':\n",
    "    print(f'hasilnya pembagiannya adalah {x} / {y} = ', divide(x,y))\n",
    "elif choice == '5':\n",
    "    print(f'hasilnya exponennya adalah {x} ** {y} = ', eksponen(x,y))\n",
    "elif choice == '6':\n",
    "    print(f'hasilnya modulusnya adalah = {x} % {y} = ', modulus(x,y))\n",
    "elif choice == '7':\n",
    "    print(f'hasilnya pembulatan kebawahnyanya adalah = ', floordivision(x,y))\n",
    "else: print(\"tidak valid\")"
   ]
  },
  {
   "cell_type": "code",
   "execution_count": null,
   "id": "838d7024-5a94-4b8d-965d-15db9d7106cb",
   "metadata": {},
   "outputs": [],
   "source": []
  }
 ],
 "metadata": {
  "kernelspec": {
   "display_name": "Python 3 (ipykernel)",
   "language": "python",
   "name": "python3"
  },
  "language_info": {
   "codemirror_mode": {
    "name": "ipython",
    "version": 3
   },
   "file_extension": ".py",
   "mimetype": "text/x-python",
   "name": "python",
   "nbconvert_exporter": "python",
   "pygments_lexer": "ipython3",
   "version": "3.12.4"
  }
 },
 "nbformat": 4,
 "nbformat_minor": 5
}
